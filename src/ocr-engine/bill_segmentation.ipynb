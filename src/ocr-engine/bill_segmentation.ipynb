{
 "cells": [
  {
   "cell_type": "markdown",
   "metadata": {
    "deletable": true,
    "editable": true
   },
   "source": [
    "# Import libraries"
   ]
  },
  {
   "cell_type": "code",
   "execution_count": 1,
   "metadata": {
    "collapsed": true,
    "deletable": true,
    "editable": true
   },
   "outputs": [],
   "source": [
    "import tesserocr\n",
    "import tempfile\n",
    "import img2pdf\n",
    "import cv2\n",
    "import os\n",
    "import numpy as np\n",
    "from PIL import Image\n",
    "from pdf2image import convert_from_path\n",
    "from tesserocr import PyTessBaseAPI, RIL, PSM, OEM # to call different API functions of tesseract"
   ]
  },
  {
   "cell_type": "code",
   "execution_count": 2,
   "metadata": {
    "collapsed": false,
    "deletable": true,
    "editable": true
   },
   "outputs": [],
   "source": [
    "# Import Pre-processing functions\n",
    "\n",
    "import sys\n",
    "sys.path.insert(0, '../Pre-Processing')\n",
    "\n",
    "from pdf_parser_engine import get_text\n",
    "from whitespace_margin_remover import get_roi\n",
    "from skew_correction_engine import rotate_image\n",
    "from adaptive_binarisation_engine import get_binarised_image\n",
    "from box_detection_engine import get_boxes"
   ]
  },
  {
   "cell_type": "markdown",
   "metadata": {
    "deletable": true,
    "editable": true
   },
   "source": [
    "# Load the File"
   ]
  },
  {
   "cell_type": "code",
   "execution_count": 3,
   "metadata": {
    "collapsed": false,
    "deletable": true,
    "editable": true
   },
   "outputs": [],
   "source": [
    "# GIVE FILE PATH AND FILE NAME\n",
    "\n",
    "file_parent_dir = \"./../../res/data/AICST-dataset/MF/test_files/\"\n",
    "#file_name = \"117438-4312_327220171005155635-Page(1).pdf\"\n",
    "#file_name = \"117540-232-67215820_160620171011155112-Page(1).pdf\"\n",
    "#file_name = \"117568-MAWB014-45783043_333320171013030906-Page(1).pdf\"\n",
    "#file_name = \"117586-[Untitled]_303520171013155622-Page(2).pdf\"\n",
    "file_name = \"118354-JFK4825_303820171123032706-Page(2).pdf\"\n",
    "file_path = os.path.join(os.path.abspath(file_parent_dir), file_name)\n"
   ]
  },
  {
   "cell_type": "markdown",
   "metadata": {
    "deletable": true,
    "editable": true
   },
   "source": [
    "#  Check File Type - PDF or any other type"
   ]
  },
  {
   "cell_type": "code",
   "execution_count": 4,
   "metadata": {
    "collapsed": true,
    "deletable": true,
    "editable": true
   },
   "outputs": [],
   "source": [
    "# TO GET FILE EXTENSION --> SPLIT\n",
    "\n",
    "file_name_witout_ext = os.path.splitext(file_name)[0]\n",
    "file_ext = os.path.splitext(file_name)[1]"
   ]
  },
  {
   "cell_type": "markdown",
   "metadata": {
    "deletable": true,
    "editable": true
   },
   "source": [
    "#  Check PDF Type - Searchable (OCR not required) OR Non-Searchable (OCR required)"
   ]
  },
  {
   "cell_type": "code",
   "execution_count": 5,
   "metadata": {
    "collapsed": false,
    "deletable": true,
    "editable": true
   },
   "outputs": [
    {
     "name": "stdout",
     "output_type": "stream",
     "text": [
      "b'Other Charges\\nRequested Flight/Date\\nTax\\nTotal Collect\\nNot Negotiable\\nIssuing Carrier\\'s Agent Name and City\\nDeclared Value for Customs\\nDeclared Value for Carriage\\nCharge\\nValuation Charge\\nExecuted on (date)\\nINSURANCE - If carrier offers insurance and such insurance is\\nrequested in accordance with the conditions thereof, indicate amount\\nto be insured in figures in box marked \"Amount of Insutance\".\\nTotal Other Charges Due Agent\\nPrepaid\\nCC Charges in Dest. Currency\\nCurrency Conversion Basis\\nTotal Prepaid\\nCollect\\nSignature of Shipper or its Agent\\nat (place)\\nTotal Other Charges Due Carrier\\nOriginal Shippers Information\\nConsignee\\'s Account Number\\nAir Waybill\\nCopies 1,2 and 3 of this Air Waybill are originals and have the same validy\\nShipper\\'s Name and Address\\nShipper\\'s Account Number\\nIssued by\\nConsignee\\'s Name and Address\\nAgent\\'s IATA Code\\nAccount No.\\nAirport of Departure (Addr of First Carrier) and Requesting Routing\\nReference Number\\nCurrency\\nWT/VAL\\nOther\\nPPD\\nPPD\\nCOLL\\nRouting and Destination\\nby\\nto\\nby\\nto\\nBy First Carrier\\nTo\\nHandling Information\\nAirport of Destination\\nSCI\\nAmount of Insurance\\nNo. of\\nPieces\\nRCP\\nGross\\nWeight\\nRate Class\\nCommodity\\nItem No.\\nChargeable\\nWeight\\nTotal\\nNature and Quantity of Goods\\n(incl. Dimensions or Volume)\\nRate\\nWeight Charge\\nCharges at Destination\\nTotal Collect Charges\\nFor Carriers Use only\\nat Destination\\nShipper Certifies that the particulars on the face hereof are correct and that insofar as any part of the consignment\\ncontains dangerious goods, such is properly described by name and is in proper condition for carriage by air\\naccording to the applicable Dangerious Goods Regulations\\nSignature of Issuing Carrier or its Agent\\nCHGS\\nCODE\\nAccounting Information\\nCOLL\\nIt is agreed that the goods described herein are accepted in apparent good order and condition\\n(except as noted) for carriage SUBJECT TO THE CONDITIONS OF CONTRACT ON THE\\nREVERSE HEREOF. ALL GOODS MAY BE CARRIED BY ANY OTHER MEANS INCLUDING ROAD\\nOR ANY OTHER CARRIER UNLESS SPECIFIED CONTRARY INSTRUCTIONS ARE GIVEN\\nHEREON BY THE SHIPPER, AND SHIPPER AGREES THAT THE SHIPMENT MAY BE CARRIED\\nVIA INTERMEDIATE STOPPING PLACES WHICH THE CARRER DEEMS APPREPRIRATE. THE\\nSHIPPER\\'S ATTENTION IS DRAWN TO THE NOTICE CONCERNING CARRIER\\'S LIMITATION OF\\nLIABILITY. Shipper may increase such limitation of liability by declaring a higher value for carriage\\nand paying a supplemental charge if required \\n\\n\\n\\n\\n\\n\\n\\n\\n\\n\\n\\n\\n\\n\\n\\n\\n\\n\\n\\n\\n\\n\\n\\n\\n\\n\\nTHIS CARGO HAS BEEN\\n100% SCREENED BY CONCORDIA\\n\\n\\n\\n\\n\\n\\n\\n\\n\\n'\n"
     ]
    }
   ],
   "source": [
    "# CHECK IF SEARCHABLE PDF OR NOT\n",
    "\n",
    "#print(file_path)\n",
    "do_ocr = True \n",
    "if file_ext == '.pdf':\n",
    "    pdfOutput = get_text(file_path)\n",
    "    if pdfOutput != \"b''\":\n",
    "        print(pdfOutput)\n",
    "        do_ocr = True\n",
    "    else:\n",
    "        print(\"Non Searchable PDF!\")\n",
    "\n",
    "# For now, OCR engine runs on all PDFs irresepective of whether it is searchable or not"
   ]
  },
  {
   "cell_type": "markdown",
   "metadata": {
    "deletable": true,
    "editable": true
   },
   "source": [
    "# Pre-Processing"
   ]
  },
  {
   "cell_type": "code",
   "execution_count": 6,
   "metadata": {
    "collapsed": false,
    "deletable": true,
    "editable": true
   },
   "outputs": [],
   "source": [
    "if do_ocr:\n",
    "\n",
    "    dataset_file_name = ''\n",
    "    num_of_pages = 1\n",
    "    num_of_blobs = 1\n",
    "\n",
    "    dataset_file_name = file_parent_dir + file_name_witout_ext\n",
    "\n",
    "    if not os.path.exists(dataset_file_name):\n",
    "        try:\n",
    "            os.makedirs(dataset_file_name)\n",
    "        except OSError as exc: \n",
    "            print(\"Can not create directory in dataset directory!\")\n",
    "\n",
    "    if file_ext != '.pdf':\n",
    "        with open(dataset_file_name + '.pdf', 'wb') as f:\n",
    "            print(file_path)\n",
    "            f.write(img2pdf.convert(file_path))\n",
    "\n",
    "    file_path = file_parent_dir + file_name_witout_ext + '.pdf'\n",
    "\n",
    "    pages = convert_from_path(file_path, 500)\n",
    "    page_path = ''\n",
    "    page_name_dir = dataset_file_name + '/page'+ str(num_of_pages)\n",
    "    \n",
    "    if not os.path.exists(page_name_dir):\n",
    "        try:\n",
    "            os.makedirs(page_name_dir)\n",
    "        except OSError as exc: \n",
    "            print(\"Can not create directory in page name directory!\")\n",
    "\n",
    "    for page in pages:\n",
    "        \n",
    "        page.save(page_name_dir + '/page'+ str(num_of_pages) + '.jpg', 'JPEG')\n",
    "        \n",
    "        page_image = cv2.imread(page_name_dir + '/page'+ str(num_of_pages) + '.jpg',cv2.IMREAD_GRAYSCALE)\n",
    "        \n",
    "        page_path = dataset_file_name + '/page' + str(num_of_pages) + '_blobs/'\n",
    "        \n",
    "        if not os.path.exists(page_path):\n",
    "            try:\n",
    "                os.makedirs(page_path)\n",
    "            except OSError as exc: \n",
    "                print(\"Can not create result directory!\")\n",
    "                \n",
    "        num_of_blobs = get_boxes(page_name_dir + '/page'+ str(num_of_pages) + '.jpg', page_path, True)\n",
    "        \n",
    "        num_of_pages = num_of_pages+1\n"
   ]
  },
  {
   "cell_type": "code",
   "execution_count": 7,
   "metadata": {
    "collapsed": false,
    "deletable": true,
    "editable": true
   },
   "outputs": [
    {
     "name": "stdout",
     "output_type": "stream",
     "text": [
      "39\n"
     ]
    }
   ],
   "source": [
    "print(num_of_blobs)"
   ]
  },
  {
   "cell_type": "markdown",
   "metadata": {
    "deletable": true,
    "editable": true
   },
   "source": [
    "# Optical Character Recognition (OCR) using Tesseract engine"
   ]
  },
  {
   "cell_type": "code",
   "execution_count": 8,
   "metadata": {
    "collapsed": false,
    "deletable": true,
    "editable": true
   },
   "outputs": [],
   "source": [
    "for page_num in range(1,num_of_pages):\n",
    "    \n",
    "    ocr_results_path = dataset_file_name + '/page' + str(page_num) + '_blobs_ocr/' \n",
    "    \n",
    "    if not os.path.exists(ocr_results_path):\n",
    "        try:\n",
    "            os.makedirs(ocr_results_path)\n",
    "        except OSError as exc: \n",
    "            print(\"Can not create ocr results directory!\")\n",
    "        \n",
    "    for blob_num in range(1,num_of_blobs+1):\n",
    "        \n",
    "        blob_img_path = dataset_file_name + '/page' + str(page_num) + '_blobs/blob_' + str(blob_num) + '.jpg'\n",
    "        \n",
    "        text = tesserocr.file_to_text(blob_img_path)\n",
    "        \n",
    "        f= open(ocr_results_path + 'blob_' + str(blob_num) + '_ocr.txt', 'w+', encoding = 'utf8')\n",
    "        f.write(text)\n",
    "        f.close()"
   ]
  },
  {
   "cell_type": "markdown",
   "metadata": {
    "deletable": true,
    "editable": true
   },
   "source": [
    "# Page Segmentation"
   ]
  },
  {
   "cell_type": "code",
   "execution_count": 9,
   "metadata": {
    "collapsed": false,
    "deletable": true,
    "editable": true
   },
   "outputs": [],
   "source": [
    "page_api = PyTessBaseAPI()\n",
    "\n",
    "for page_num in range(1,num_of_pages):\n",
    "    \n",
    "    for blob_num in range(1,num_of_blobs+1):\n",
    "        \n",
    "        blob_img_path = dataset_file_name + '/page' + str(page_num) + '_blobs/blob_' + str(blob_num) + '.jpg'\n",
    "        \n",
    "        #block_dir_path = dataset_file_name + '/page' + str(page_num) + '_blobs/blob_' + str(blob_num) +'_segments/'+ str(blob_num) +'/'\n",
    "        block_dir_path = dataset_file_name + '/page' + str(page_num) + '_blobs/blob_segments/blob_' + str(blob_num) +'/'\n",
    "        \n",
    "        if not os.path.exists(block_dir_path):\n",
    "            try:\n",
    "                os.makedirs(block_dir_path)\n",
    "            except OSError as exc: \n",
    "                print(\"Can not create blob segment directory!\")\n",
    "        \n",
    "        #get_boxes(blob_img_path, block_dir_path, False)\n",
    "        \n",
    "        page_api.SetImageFile(blob_img_path)\n",
    "        \n",
    "        blocks = page_api.GetComponentImages(RIL.TEXTLINE, True)\n",
    "        \n",
    "        blob_image = cv2.imread(blob_img_path, cv2.IMREAD_GRAYSCALE)\n",
    "        \n",
    "        blob_image_draw = blob_image               \n",
    "                \n",
    "        for i, (im, block, _, _) in enumerate(blocks):\n",
    "            block_x, block_y, block_w, block_h = block['x'], block['y'], block['w'], block['h']\n",
    "            #block_image = blob_image[block_y-5:block_y+block_h+5, block_x-5:block_x+block_w+5]\n",
    "            block_image = blob_image[block_y:block_y+block_h, block_x:block_x+block_w]\n",
    "            cv2.imwrite(block_dir_path + 'segment_' + str(i) + '.jpg', block_image)\n"
   ]
  },
  {
   "cell_type": "code",
   "execution_count": null,
   "metadata": {
    "collapsed": true,
    "deletable": true,
    "editable": true
   },
   "outputs": [],
   "source": []
  }
 ],
 "metadata": {
  "kernelspec": {
   "display_name": "Python 3",
   "language": "python",
   "name": "python3"
  },
  "language_info": {
   "codemirror_mode": {
    "name": "ipython",
    "version": 3
   },
   "file_extension": ".py",
   "mimetype": "text/x-python",
   "name": "python",
   "nbconvert_exporter": "python",
   "pygments_lexer": "ipython3",
   "version": "3.5.3"
  }
 },
 "nbformat": 4,
 "nbformat_minor": 2
}
