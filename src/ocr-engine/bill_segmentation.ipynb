{
 "cells": [
  {
   "cell_type": "markdown",
   "metadata": {
    "deletable": true,
    "editable": true
   },
   "source": [
    "# Import libraries"
   ]
  },
  {
   "cell_type": "code",
   "execution_count": 4,
   "metadata": {
    "collapsed": true,
    "deletable": true,
    "editable": true
   },
   "outputs": [],
   "source": [
    "import tesserocr\n",
    "import img2pdf\n",
    "import cv2\n",
    "import os\n",
    "import numpy as np\n",
    "from PIL import Image\n",
    "from pdf2image import convert_from_path\n",
    "from tesserocr import PyTessBaseAPI, RIL, PSM, OEM # to call different API functions of tesseract"
   ]
  },
  {
   "cell_type": "code",
   "execution_count": 5,
   "metadata": {
    "collapsed": false,
    "deletable": true,
    "editable": true
   },
   "outputs": [],
   "source": [
    "# Import Pre-processing functions\n",
    "\n",
    "import sys\n",
    "sys.path.insert(0, './../Pre-Processing')\n",
    "\n",
    "from pdf_parser_engine import get_text\n",
    "from whitespace_margin_remover import get_roi\n",
    "from skew_correction_engine import rotate_image\n",
    "from adaptive_binarisation_engine import get_binarised_image\n",
    "from box_detection_engine import get_boxes"
   ]
  },
  {
   "cell_type": "markdown",
   "metadata": {
    "deletable": true,
    "editable": true
   },
   "source": [
    "# Load the File"
   ]
  },
  {
   "cell_type": "code",
   "execution_count": 3,
   "metadata": {
    "collapsed": false,
    "deletable": true,
    "editable": true
   },
   "outputs": [],
   "source": [
    "# GIVE FILE PATH AND FILE NAME\n",
    "\n",
    "file_parent_dir = \"./../../res/data/AICST-dataset/MF/test_files/\"\n",
    "file_name = \"117438-4312_327220171005155635-Page(1).pdf\"\n",
    "#file_name = \"117540-232-67215820_160620171011155112-Page(1).pdf\"\n",
    "#file_name = \"117568-MAWB014-45783043_333320171013030906-Page(1).pdf\"\n",
    "#file_name = \"117586-[Untitled]_303520171013155622-Page(2).pdf\"\n",
    "#file_name = \"118354-JFK4825_303820171123032706-Page(2).pdf\"\n",
    "file_path = os.path.join(os.path.abspath(file_parent_dir), file_name)\n"
   ]
  },
  {
   "cell_type": "markdown",
   "metadata": {
    "deletable": true,
    "editable": true
   },
   "source": [
    "#  Check File Type - PDF or any other type"
   ]
  },
  {
   "cell_type": "code",
   "execution_count": 4,
   "metadata": {
    "collapsed": true,
    "deletable": true,
    "editable": true
   },
   "outputs": [],
   "source": [
    "# TO GET FILE EXTENSION --> SPLIT\n",
    "\n",
    "file_name_witout_ext = os.path.splitext(file_name)[0]\n",
    "file_ext = os.path.splitext(file_name)[1]"
   ]
  },
  {
   "cell_type": "markdown",
   "metadata": {
    "deletable": true,
    "editable": true
   },
   "source": [
    "#  Check PDF Type - Searchable (OCR not required) OR Non-Searchable (OCR required)"
   ]
  },
  {
   "cell_type": "code",
   "execution_count": 5,
   "metadata": {
    "collapsed": false,
    "deletable": true,
    "editable": true
   },
   "outputs": [
    {
     "name": "stdout",
     "output_type": "stream",
     "text": [
      "Non Searchable PDF!\n"
     ]
    }
   ],
   "source": [
    "# CHECK IF SEARCHABLE PDF OR NOT\n",
    "\n",
    "#print(file_path)\n",
    "do_ocr = True \n",
    "if file_ext == '.pdf':\n",
    "    pdfOutput = get_text(file_path)\n",
    "    if pdfOutput != \"b''\":\n",
    "        print(pdfOutput)\n",
    "        do_ocr = True\n",
    "    else:\n",
    "        print(\"Non Searchable PDF!\")\n",
    "\n",
    "# For now, OCR engine runs on all PDFs irresepective of whether it is searchable or not"
   ]
  },
  {
   "cell_type": "markdown",
   "metadata": {
    "deletable": true,
    "editable": true
   },
   "source": [
    "# Pre-Processing"
   ]
  },
  {
   "cell_type": "code",
   "execution_count": 6,
   "metadata": {
    "collapsed": false,
    "deletable": true,
    "editable": true
   },
   "outputs": [],
   "source": [
    "if do_ocr:\n",
    "\n",
    "    dataset_file_name = ''\n",
    "    num_of_pages = 1\n",
    "    num_of_blobs = 1\n",
    "\n",
    "    dataset_file_name = file_parent_dir + file_name_witout_ext\n",
    "\n",
    "    if not os.path.exists(dataset_file_name):\n",
    "        try:\n",
    "            os.makedirs(dataset_file_name)\n",
    "        except OSError as exc: \n",
    "            print(\"Can not create directory in dataset directory!\")\n",
    "\n",
    "    if file_ext != '.pdf':\n",
    "        with open(dataset_file_name + '.pdf', 'wb') as f:\n",
    "            print(file_path)\n",
    "            f.write(img2pdf.convert(file_path))\n",
    "\n",
    "    file_path = file_parent_dir + file_name_witout_ext + '.pdf'\n",
    "\n",
    "    pages = convert_from_path(file_path, 500)\n",
    "    page_path = ''\n",
    "    page_name_dir = dataset_file_name + '/page'+ str(num_of_pages)\n",
    "    \n",
    "    if not os.path.exists(page_name_dir):\n",
    "        try:\n",
    "            os.makedirs(page_name_dir)\n",
    "        except OSError as exc: \n",
    "            print(\"Can not create directory in page name directory!\")\n",
    "\n",
    "    for page in pages:\n",
    "        \n",
    "        page.save(page_name_dir + '/page'+ str(num_of_pages) + '.jpg', 'JPEG')\n",
    "        \n",
    "        page_image = cv2.imread(page_name_dir + '/page'+ str(num_of_pages) + '.jpg',cv2.IMREAD_GRAYSCALE)\n",
    "        \n",
    "        page_path = dataset_file_name + '/page' + str(num_of_pages) + '_blobs/'\n",
    "        \n",
    "        if not os.path.exists(page_path):\n",
    "            try:\n",
    "                os.makedirs(page_path)\n",
    "            except OSError as exc: \n",
    "                print(\"Can not create result directory!\")\n",
    "                \n",
    "        num_of_blobs = get_boxes(page_name_dir + '/page'+ str(num_of_pages) + '.jpg', page_path, True)\n",
    "        \n",
    "        num_of_pages = num_of_pages+1\n"
   ]
  },
  {
   "cell_type": "code",
   "execution_count": 7,
   "metadata": {
    "collapsed": false,
    "deletable": true,
    "editable": true
   },
   "outputs": [
    {
     "name": "stdout",
     "output_type": "stream",
     "text": [
      "34\n"
     ]
    }
   ],
   "source": [
    "print(num_of_blobs)"
   ]
  },
  {
   "cell_type": "markdown",
   "metadata": {
    "deletable": true,
    "editable": true
   },
   "source": [
    "# Optical Character Recognition (OCR) using Tesseract engine"
   ]
  },
  {
   "cell_type": "code",
   "execution_count": 8,
   "metadata": {
    "collapsed": false,
    "deletable": true,
    "editable": true
   },
   "outputs": [],
   "source": [
    "for page_num in range(1,num_of_pages):\n",
    "    \n",
    "    ocr_results_path = dataset_file_name + '/page' + str(page_num) + '_blobs_ocr/' \n",
    "    \n",
    "    if not os.path.exists(ocr_results_path):\n",
    "        try:\n",
    "            os.makedirs(ocr_results_path)\n",
    "        except OSError as exc: \n",
    "            print(\"Can not create ocr results directory!\")\n",
    "        \n",
    "    for blob_num in range(1,num_of_blobs+1):\n",
    "        \n",
    "        blob_img_path = dataset_file_name + '/page' + str(page_num) + '_blobs/blob_' + str(blob_num) + '.jpg'\n",
    "        \n",
    "        text = tesserocr.file_to_text(blob_img_path)\n",
    "        \n",
    "        f= open(ocr_results_path + 'blob_' + str(blob_num) + '_ocr.txt', 'w+', encoding = 'utf8')\n",
    "        f.write(text)\n",
    "        f.close()"
   ]
  },
  {
   "cell_type": "markdown",
   "metadata": {
    "deletable": true,
    "editable": true
   },
   "source": [
    "# Page Segmentation using Tesseract engine"
   ]
  },
  {
   "cell_type": "code",
   "execution_count": 9,
   "metadata": {
    "collapsed": false,
    "deletable": true,
    "editable": true
   },
   "outputs": [],
   "source": [
    "page_api = PyTessBaseAPI()\n",
    "#   pagesegmode values are:\n",
    "#   0 = Orientation and script detection (OSD) only.\n",
    "#   1 = Automatic page segmentation with OSD.\n",
    "#   2 = Automatic page segmentation, but no OSD, or OCR\n",
    "#   3 = Fully automatic page segmentation, but no OSD. (Default)\n",
    "#   4 = Assume a single column of text of variable sizes.\n",
    "#   5 = Assume a single uniform block of vertically aligned text.\n",
    "#   6 = Assume a single uniform block of text.\n",
    "#   7 = Treat the image as a single text line.\n",
    "#   8 = Treat the image as a single word.\n",
    "#   9 = Treat the image as a single word in a circle.\n",
    "#   10 = Treat the image as a single character.\n",
    "\n",
    "for page_num in range(1,num_of_pages):\n",
    "    \n",
    "    for blob_num in range(1,num_of_blobs+1):\n",
    "        \n",
    "        blob_img_path = dataset_file_name + '/page' + str(page_num) + '_blobs/blob_' + str(blob_num) + '.jpg'\n",
    "        \n",
    "        #block_dir_path = dataset_file_name + '/page' + str(page_num) + '_blobs/blob_' + str(blob_num) +'_segments/'+ str(blob_num) +'/'\n",
    "        block_dir_path = dataset_file_name + '/page' + str(page_num) + '_blobs/blob_segments/blob_' + str(blob_num) +'/'\n",
    "        \n",
    "        if not os.path.exists(block_dir_path):\n",
    "            try:\n",
    "                os.makedirs(block_dir_path)\n",
    "            except OSError as exc: \n",
    "                print(\"Can not create blob segment directory!\")\n",
    "        \n",
    "        #get_boxes(blob_img_path, block_dir_path, False)\n",
    "        \n",
    "        page_api.SetImageFile(blob_img_path)\n",
    "        \n",
    "        blocks = page_api.GetComponentImages(RIL.TEXTLINE, True)\n",
    "        \n",
    "        blob_image = cv2.imread(blob_img_path, cv2.IMREAD_GRAYSCALE)\n",
    "        \n",
    "        blob_image_draw = blob_image               \n",
    "                \n",
    "        for i, (im, block, _, _) in enumerate(blocks):\n",
    "            block_x, block_y, block_w, block_h = block['x'], block['y'], block['w'], block['h']\n",
    "            block_image = blob_image[block_y:block_y+block_h, block_x:block_x+block_w]\n",
    "            cv2.imwrite(block_dir_path + 'segment_' + str(i) + '.jpg', block_image)\n"
   ]
  },
  {
   "cell_type": "code",
   "execution_count": 11,
   "metadata": {
    "collapsed": false,
    "deletable": true,
    "editable": true
   },
   "outputs": [
    {
     "name": "stdout",
     "output_type": "stream",
     "text": [
      "Found 60 textline image components.\n",
      "Box[0]: x=377, y=14, w=3645, h=178, confidence: 79\n",
      " text: 724|JFK| |||||||||||||||||||||||||||||||\n",
      "\n",
      "Box[1]: x=400, y=228, w=2040, h=55, confidence: 83\n",
      " text: Shipper's Name and Address Shipper's Account Number Not Negotiable\n",
      "\n",
      "Box[2]: x=376, y=281, w=2206, h=117, confidence: 88\n",
      " text: JFK4825 Air Waybill\n",
      "\n",
      " \n",
      "\n",
      "Box[3]: x=374, y=459, w=2269, h=63, confidence: 88\n",
      " text: Concordia International Forwarding Corp. ||ssuedby SWISS\n",
      "\n",
      "Box[4]: x=378, y=547, w=791, h=49, confidence: 90\n",
      " text: 155-37 145th AVENUE\n",
      "\n",
      "Box[5]: x=376, y=635, w=3117, h=60, confidence: 95\n",
      " text:  \n",
      "\n",
      "Box[6]: x=2198, y=686, w=1342, h=41, confidence: 85\n",
      " text: Copies 1,2 and 3 of this Air Waybill are originals and have the same validy\n",
      "\n",
      "Box[7]: x=400, y=737, w=3592, h=63, confidence: 87\n",
      " text: Consignee's Name and Address Consignee's AceountNumber It is agreed that the goods described herein are accepted in apparent good order and condition\n",
      "\n",
      "Box[8]: x=2174, y=810, w=1815, h=41, confidence: 88\n",
      " text: (except as noted) 'for carriage SUBJECT TO THE CONDITIONS OF CONTRACT ON THE\n",
      "\n",
      "Box[9]: x=2175, y=861, w=1816, h=33, confidence: 0\n",
      " text: \n",
      "Box[10]: x=376, y=904, w=3613, h=46, confidence: 0\n",
      " text: \n",
      "Box[11]: x=2175, y=964, w=1816, h=38, confidence: 83\n",
      " text: HEREON BY THE SHIPPER, AND SHIPPER AGREES THAT THE SHIPMENT MAY BE CARRIED\n",
      "\n",
      "Box[12]: x=376, y=989, w=3613, h=60, confidence: 77\n",
      " text: v. \\I—I—v I\n",
      "\n",
      "J EENA HOUSE 1 PLOT N01700M NAGAR WIAITITERMEBIATE sToPPING PLACES WHICH THE CARRER DEEMS APPREPRIRATE THE\n",
      "\n",
      "Box[13]: x=2174, y=1067, w=1816, h=33, confidence: 85\n",
      " text: SHIPPER'S ATTENTION IS DRAWN TO THE NOTICE CONCERNING CARRIER'S LIMITATION OF\n",
      "\n",
      "Box[14]: x=373, y=1081, w=3618, h=78, confidence: 83\n",
      " text: OFF P I PELINE RD I SAHAR I ANDHERI OFIII'F'IZK 0 HI I EN I IUI‘I IO UMVV N IU lrll: NUI IUE UUI‘IUEKNINU UHKKIEK O LIIVII II‘\\ I IUI‘I ur\n",
      "\n",
      "LIABILITY. Shipper may increase such limitation of liability by declaring a higher value for carriage\n",
      "\n",
      "Box[15]: x=390, y=1167, w=2595, h=60, confidence: 91\n",
      " text: and paying a supplemental charge if required\n",
      "\n",
      "Box[16]: x=402, y=1247, w=2193, h=41, confidence: 91\n",
      " text: Issuing Carrier's Agent Name and City | Accounting Information\n",
      "\n",
      "Box[17]: x=374, y=1344, w=3072, h=64, confidence: 91\n",
      " text: Concordia International Forwarding Corp. | TSA-IAC APPROVAL NO EA9311014\n",
      "\n",
      "Box[18]: x=378, y=1432, w=791, h=49, confidence: 90\n",
      " text: 155-37 145th AVENUE\n",
      "\n",
      "Box[19]: x=376, y=1521, w=958, h=60, confidence: 0\n",
      " text: \n",
      "Box[20]: x=398, y=1602, w=2438, h=56, confidence: 90\n",
      " text: Agent's IATA Code\n",
      "\n",
      "lAccount No.\n",
      "\n",
      "Box[21]: x=378, y=1694, w=579, h=61, confidence: 90\n",
      " text: 01-1-1112/0146\n",
      "\n",
      "Box[22]: x=398, y=1779, w=2933, h=41, confidence: 90\n",
      " text: Airport of Departure (Addr of First Carrier) and Requesting Routing | Reference Number \\ Original Ship pers Information\n",
      "\n",
      "Box[23]: x=376, y=1875, w=2092, h=49, confidence: 0\n",
      " text: \n",
      "Box[24]: x=522, y=1955, w=3424, h=41, confidence: 90\n",
      " text: By First Carrier \\ Routing and Destination / |to | by | to |by |Currency|oHes| WTNAL| Other Declared Value for Carriage | Declared Value for Customs\n",
      "\n",
      "Box[25]: x=2343, y=1999, w=452, h=23, confidence: 0\n",
      " text: \n",
      "Box[26]: x=568, y=2127, w=3381, h=55, confidence: 87\n",
      " text: Airport of Destination | \\ Reguested Flight/Date / |Amountof Insurance | INSURANCE _ If carrier offers insurance and such insurance is\n",
      "\n",
      "Box[27]: x=2685, y=2193, w=1268, h=41, confidence: 90\n",
      " text: requested in accordance with the conditions thereof, indicate amount\n",
      "\n",
      "Box[28]: x=2436, y=2233, w=1347, h=45, confidence: 93\n",
      " text: NIL | to be insured in figures in box marked \"Amountof Insutance\".\n",
      "\n",
      "Box[29]: x=401, y=2315, w=372, h=41, confidence: 89\n",
      " text: Handling Information\n",
      "\n",
      "Box[30]: x=427, y=2407, w=2308, h=54, confidence: 0\n",
      " text: \n",
      "Box[31]: x=426, y=2491, w=707, h=61, confidence: 88\n",
      " text: CONN. LX154 11/24\n",
      "\n",
      "Box[32]: x=1008, y=2687, w=2698, h=105, confidence: 84\n",
      " text: Rate Glass\n",
      "Co In modity\n",
      "\n",
      " \n",
      "   \n",
      "\n",
      "Chargeable | | Rate | | | | Naturexand Quantity of Goods\n",
      "Weight A“ We\" (incl.DimensionsorVolume)\n",
      "\n",
      "Box[33]: x=676, y=2687, w=105, h=33, confidence: 77\n",
      " text: Gross\n",
      "\n",
      "Box[34]: x=731, y=2732, w=2691, h=33, confidence: 71\n",
      " text:  \n",
      "\n",
      "”HA:\n",
      "\n",
      "I:._ il l'\\:_- _ _\n",
      "\n",
      "Box[35]: x=1090, y=2752, w=2171, h=34, confidence: 66\n",
      " text: n]-.-....i\n",
      "\n",
      "I Uta\n",
      "\n",
      "Box[36]: x=665, y=2659, w=3035, h=173, confidence: 86\n",
      " text:   \n",
      "     \n",
      "\n",
      "Gross Rate Class\n",
      "\n",
      "Weight Commodity\n",
      "\n",
      "Chargeable Rate Nature. and Quantity of Goods\n",
      "N Weight 499 TO-ta' (incl. Dimensions or Volume)\n",
      "Item 0.\n",
      "\n",
      "Box[37]: x=712, y=2871, w=3033, h=60, confidence: 0\n",
      " text: \n",
      "Box[38]: x=2943, y=2941, w=713, h=46, confidence: 0\n",
      " text: \n",
      "Box[39]: x=3680, y=2486, w=63, h=33, confidence: 0\n",
      " text: \n",
      "Box[40]: x=981, y=3942, w=1860, h=129, confidence: 76\n",
      " text: THIS C\n",
      "° R\n",
      "\n",
      ">\n",
      "22!\n",
      "m6)\n",
      "00\n",
      "ED:\n",
      "-<>\n",
      "\n",
      "0:\n",
      "\n",
      "BEENRDIA ‘ 4,365.00\n",
      "\n",
      "I11\n",
      "I11\n",
      "\n",
      "Box[41]: x=784, y=4075, w=1221, h=65, confidence: 64\n",
      " text: , Weight Charge I ‘ Collect; Other Charges\n",
      "\n",
      "Box[42]: x=522, y=4091, w=136, h=41, confidence: 85\n",
      " text: Prepaid\n",
      "\n",
      "Box[43]: x=533, y=4178, w=324, h=60, confidence: 0\n",
      " text: \n",
      "Box[44]: x=909, y=4269, w=313, h=41, confidence: 90\n",
      " text: Valuation Charge\n",
      "\n",
      "Box[45]: x=763, y=4617, w=3131, h=49, confidence: 82\n",
      " text: Total Other Charges Due Agent / | Shipper Certifies. that the particulars on the face here-of are correct andltlhat. insofar as any” part of the consignment\n",
      "\n",
      "Box[46]: x=1773, y=4661, w=2117, h=41, confidence: 92\n",
      " text: contains dangerious goods, such is properly described by name and is in proper condition for carriage by air\n",
      "\n",
      "Box[47]: x=1772, y=4706, w=1064, h=41, confidence: 91\n",
      " text: according to the applicable Dangerious Goods Regulations\n",
      "\n",
      "Box[48]: x=788, y=4801, w=590, h=41, confidence: 93\n",
      " text: Total Other Charges Due Carrier\n",
      "\n",
      "Box[49]: x=1872, y=4887, w=1668, h=63, confidence: 90\n",
      " text: Concordia International Forwarding Corp.\n",
      "\n",
      "Box[50]: x=1868, y=4978, w=674, h=46, confidence: 88\n",
      " text: ANTHONY MARTELLO\n",
      "\n",
      "Box[51]: x=533, y=5241, w=324, h=60, confidence: 0\n",
      " text: \n",
      "Box[52]: x=449, y=5331, w=1186, h=42, confidence: 91\n",
      " text: Currency Conversion Basis / | \\QC Charges in Dest. Currenc\n",
      "\n",
      "Box[53]: x=1786, y=5443, w=2123, h=41, confidence: 91\n",
      " text: Executed on (date) at (place) Signature of Issuing Carrier or its Agent\n",
      "\n",
      "Box[54]: x=1881, y=5508, w=391, h=41, confidence: 92\n",
      " text: Total Collect Charges\n",
      "\n",
      "Box[55]: x=1177, y=5508, w=412, h=41, confidence: 92\n",
      " text: Charges at Destination\n",
      "\n",
      "Box[56]: x=513, y=5547, w=385, h=41, confidence: 82\n",
      " text: Flor Carriers Use only\n",
      "\n",
      "Box[57]: x=580, y=5591, w=247, h=33, confidence: 0\n",
      " text: \n",
      "Box[58]: x=3527, y=5683, w=495, h=49, confidence: 0\n",
      " text: \n",
      "Box[59]: x=1552, y=5728, w=1282, h=72, confidence: 95\n",
      " text:  \n",
      "\n"
     ]
    }
   ],
   "source": [
    "# Page Segmentation test\n",
    "image = Image.open('./../../res/data/AICST-dataset/MF/test_files/118354-JFK4825_303820171123032706-Page(2)/page1/page1.jpg')\n",
    "with PyTessBaseAPI() as api:\n",
    "    api.SetImage(image)\n",
    "    boxes = api.GetComponentImages(RIL.TEXTLINE, True)\n",
    "    print(\"Found \" + str(len(boxes)) + \" textline image components.\")\n",
    "    for i, (im, box, _, _) in enumerate(boxes):\n",
    "        # im is a PIL image object\n",
    "        # box is a dict with x, y, w and h keys\n",
    "        api.SetRectangle(box['x'], box['y'], box['w'], box['h'])\n",
    "        ocrResult = api.GetUTF8Text()\n",
    "        conf = api.MeanTextConf()\n",
    "        print(\"Box[\" + str(i) + \"]: x=\" + str(box['x']) + \", y=\" + str(box['y']) + \", w=\" + str(box['w']) + \", h=\" + str(box['h']) + \", confidence: \" + str(conf) + \"\\n text: \" + ocrResult)\n",
    "image.close()"
   ]
  },
  {
   "cell_type": "code",
   "execution_count": null,
   "metadata": {
    "collapsed": true
   },
   "outputs": [],
   "source": []
  }
 ],
 "metadata": {
  "kernelspec": {
   "display_name": "Python 3",
   "language": "python",
   "name": "python3"
  },
  "language_info": {
   "codemirror_mode": {
    "name": "ipython",
    "version": 3
   },
   "file_extension": ".py",
   "mimetype": "text/x-python",
   "name": "python",
   "nbconvert_exporter": "python",
   "pygments_lexer": "ipython3",
   "version": "3.5.3"
  }
 },
 "nbformat": 4,
 "nbformat_minor": 2
}
